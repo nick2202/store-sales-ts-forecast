{
 "cells": [
  {
   "cell_type": "code",
   "execution_count": 8,
   "metadata": {
    "collapsed": true
   },
   "outputs": [
    {
     "data": {
      "text/plain": "  0%|          | 0/30 [00:00<?, ?it/s]",
      "application/vnd.jupyter.widget-view+json": {
       "version_major": 2,
       "version_minor": 0,
       "model_id": "5d9e713225cf49d28f27f969c6b95cc5"
      }
     },
     "metadata": {},
     "output_type": "display_data"
    },
    {
     "name": "stdout",
     "output_type": "stream",
     "text": [
      "[5, 6, 9, 14, 21, 30, 41, 54, 69, 86, 105, 126, 149, 174, 201, 230, 261, 294, 329, 366, 405, 446, 489, 534, 581, 630, 681, 734, 789, 846]\n"
     ]
    }
   ],
   "source": [
    "import itertools\n",
    "import tqdm\n",
    "import time\n",
    "from test import _foo\n",
    "from multiprocessing import freeze_support, cpu_count\n",
    "from tqdm.contrib.concurrent import process_map  # or thread_map\n",
    "from multiprocessing.pool import Pool\n",
    "\n",
    "if __name__ == '__main__':\n",
    "    # inputs = zip(range(0, 30), itertools.repeat(\"hallo\"))\n",
    "    # with Pool(8) as pool:\n",
    "    #     results = pool.starmap(_foo, tqdm.tqdm(inputs, total=30))\n",
    "\n",
    "    # print(results)\n",
    "\n",
    "    freeze_support()\n",
    "    r = process_map(_foo, range(0, 30), itertools.repeat(5), max_workers=cpu_count())\n",
    "    print(r)"
   ]
  }
 ],
 "metadata": {
  "kernelspec": {
   "display_name": "Python 3",
   "language": "python",
   "name": "python3"
  },
  "language_info": {
   "codemirror_mode": {
    "name": "ipython",
    "version": 2
   },
   "file_extension": ".py",
   "mimetype": "text/x-python",
   "name": "python",
   "nbconvert_exporter": "python",
   "pygments_lexer": "ipython2",
   "version": "2.7.6"
  }
 },
 "nbformat": 4,
 "nbformat_minor": 0
}